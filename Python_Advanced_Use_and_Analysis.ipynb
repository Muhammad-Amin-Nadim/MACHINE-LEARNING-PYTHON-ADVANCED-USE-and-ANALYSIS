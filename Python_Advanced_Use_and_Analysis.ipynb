{
  "cells": [
    {
      "cell_type": "markdown",
      "metadata": {
        "id": "RfXXTR2bOrAp"
      },
      "source": [
        "\n",
        "\n",
        "# Python Advanced - Data Science Foundation\n",
        "\n",
        "**SET THE WORKING DIRECTORY SO THAT WE DO NOT HAVE TO THINK ABOUT PATH PROBLEMS**\n",
        "\n",
        "Please ensure all your folder names <font color='red'><b>do not have a space & use forward slash (/)</b></font>"
      ]
    },
    {
      "cell_type": "code",
      "execution_count": null,
      "metadata": {
        "id": "qcspIoTtOrA0"
      },
      "outputs": [],
      "source": [
        "# Please ensure the path follows the rules we had discussed and ensure a '/' at the last\n",
        "your_local_path=\"C:/Users/tejks/Desktop/ML/practice/\""
      ]
    },
    {
      "cell_type": "code",
      "execution_count": 1,
      "metadata": {
        "id": "hfmDvJg9OrA5"
      },
      "outputs": [],
      "source": [
        "def func_python(N):\n",
        "    d=0\n",
        "    for i in range(N):\n",
        "        d += (i % 3 - 1) * i\n",
        "    return d"
      ]
    },
    {
      "cell_type": "code",
      "execution_count": 2,
      "metadata": {
        "colab": {
          "base_uri": "https://localhost:8080/"
        },
        "id": "McbbsXjqOrA6",
        "outputId": "223fc2a7-0152-459d-cf3a-f3eaaae64d0c"
      },
      "outputs": [
        {
          "output_type": "stream",
          "name": "stdout",
          "text": [
            "The slowest run took 5.93 times longer than the fastest. This could mean that an intermediate result is being cached.\n",
            "100 loops, best of 5: 1.42 ms per loop\n"
          ]
        }
      ],
      "source": [
        "%timeit func_python(10000)"
      ]
    },
    {
      "cell_type": "code",
      "execution_count": 20,
      "metadata": {
        "colab": {
          "base_uri": "https://localhost:8080/"
        },
        "id": "S_Ko_G2fOrA8",
        "outputId": "cc619a58-55a7-4a12-e8fb-a8dfd2a24c43"
      },
      "outputs": [
        {
          "output_type": "stream",
          "name": "stdout",
          "text": [
            "[[45, 50, 35], [5, 10, 7]]\n"
          ]
        }
      ],
      "source": [
        "distance = [45,50,35]\n",
        "speed = [5,10,7]\n",
        "\n",
        "\n",
        "time = [distance,speed]\n",
        "print(time)"
      ]
    },
    {
      "cell_type": "markdown",
      "metadata": {
        "id": "GSwPn87TOrA9"
      },
      "source": [
        "**Introduction to NumPy**\n",
        "\n",
        "NumPy (short form for Numerical Python) is the most fundamental package designed for scientific computing and data analysis. Most of the other packages such as pandas, statsmodels are built on top of it, and is an important package to know and learn about. At the heart of NumPy is a data structure called **ndarray**. ndarray is a basically a multi-dimensional array that is built specifically for the purpose of numerical data analysis. Python also has array capabilities, but they are more generic. <b>The advantage of using ndarray is that processing is extremely efficient and fast.</b> \n",
        "\n",
        "You can perform standard mathematical operations on either individual elements or complete array. The range of functions covered is <b>linear algebra, statistical operations, and other specialized mathematical operations</b>. For our purpose, we need to know about <b>ndarray and the range of mathematical functions that are relevant to our research purpose</b>. If you already know languages such as C, Fortran, then you can integrate NumPy code with code written in these languages and can pass NumPy arrays seamlessly. \n",
        "\n",
        "From an overall perspective, understanding of <b>NumPy will help us in using pandas effectively as it is built on top of NumPy and frequently we will also be using functions of NumPy in research work</b>. In the current session, we will only look at some of the most important features of NumPy. For a full listing of NumPy features, please visit http://wiki.scipy.org/Numpy_Example_List .\n",
        "\n",
        "Possible application of NumPy package in research work are:\n",
        "<i>\n",
        "+ Algorithmic operations such as sorting, grouping and set operations\n",
        "+ Performing repetitive operations on whole arrays of data without using loops\n",
        "+ Data merging and alignment operations\n",
        "+ Data indexing, filtering, and transformation on individual elements or whole arrays\n",
        "+ Data summarization and descriptive statistics\n",
        "</i>\n",
        "**Installing NumPy**\n",
        "\n",
        "In order to check if NumPy is installed, go to Package Manager and type NumPy. You will get a list of packages with names closely matching to NumPy. For our purpose, we need to focus on package named numpy 1.xx. If the package is not installed, click on Install. \n",
        "\n",
        "**Importing NumPy**\n",
        "\n",
        "In order to be able to use NumPy, first import it using import statement"
      ]
    },
    {
      "cell_type": "code",
      "execution_count": 11,
      "metadata": {
        "id": "5ELAPaQpOrA_"
      },
      "outputs": [],
      "source": [
        "import numpy as np"
      ]
    },
    {
      "cell_type": "markdown",
      "metadata": {
        "id": "NqT7oCD3OrBB"
      },
      "source": [
        "The above statement will import all of NumPy into your workspace. For starters its good, but if you are doing performance intensive work, then saving space is of importance. In such cases, you can import specific modules of NumPy by using"
      ]
    },
    {
      "cell_type": "code",
      "execution_count": 12,
      "metadata": {
        "id": "vZ_dd5BtOrBD"
      },
      "outputs": [],
      "source": [
        "from numpy import array\n",
        "from numpy import arange"
      ]
    },
    {
      "cell_type": "code",
      "execution_count": 13,
      "metadata": {
        "colab": {
          "base_uri": "https://localhost:8080/"
        },
        "id": "IhxV6Cx0OrBF",
        "outputId": "91c27474-287e-4f1b-a38f-1a63d3019243"
      },
      "outputs": [
        {
          "output_type": "stream",
          "name": "stdout",
          "text": [
            "[45 50 35]\n",
            "[ 5 10  7]\n",
            "[9. 5. 5.]\n"
          ]
        },
        {
          "output_type": "execute_result",
          "data": {
            "text/plain": [
              "3"
            ]
          },
          "metadata": {},
          "execution_count": 13
        }
      ],
      "source": [
        "# How we have overcome the prior challenge using \n",
        "dist = array(distance)\n",
        "spd = np.array(speed)\n",
        "print (dist)\n",
        "print (spd)\n",
        "time= dist/spd\n",
        "print (time)\n",
        "len(time)"
      ]
    },
    {
      "cell_type": "markdown",
      "metadata": {
        "id": "1Ij-OtxtOrBH"
      },
      "source": [
        "ndarray\n",
        "The most important data structure in NumPy is an n-dimensional array object. Using ndarray, you can store large multidimensional datasets in Python. Being an array, you can <b>perform mathematical operations on these arrays either one element at a time or on complete arrays without using loops</b>. The way to initialize an array object is"
      ]
    },
    {
      "cell_type": "code",
      "execution_count": 14,
      "metadata": {
        "colab": {
          "base_uri": "https://localhost:8080/"
        },
        "id": "Jj2wGtbfOrBI",
        "outputId": "c7c6dfa4-a8f9-4ad2-9829-a41828d56253"
      },
      "outputs": [
        {
          "output_type": "stream",
          "name": "stdout",
          "text": [
            "[1, 2, 3, 4, 5, 10, 20, 30, 40]\n",
            "[6, 7, 8, 9, 10]\n"
          ]
        }
      ],
      "source": [
        "a=[1,2,3,4,5]                                 # initialize a list and assign values to it\n",
        "b=[10,20,30,40]\n",
        "print (a + b)\n",
        "#print (a + 5)                               #Want to add '5' to all the elements in the list\n",
        "c = [val + 5 for val in a]           \n",
        "print (c)"
      ]
    },
    {
      "cell_type": "code",
      "execution_count": 21,
      "metadata": {
        "colab": {
          "base_uri": "https://localhost:8080/"
        },
        "id": "bspQIDLvOrBJ",
        "outputId": "f9f04104-3cf4-423d-e884-892a495ba7c6"
      },
      "outputs": [
        {
          "output_type": "stream",
          "name": "stdout",
          "text": [
            "[11 22 33 44 55]\n",
            "[ 6  7  8  9 10]\n"
          ]
        },
        {
          "output_type": "execute_result",
          "data": {
            "text/plain": [
              "array([  1000,   8000,  27000,  64000, 125000])"
            ]
          },
          "metadata": {},
          "execution_count": 21
        }
      ],
      "source": [
        "f = array((1,2,3,4,5))                       # initializes an array a and assigns values to it\n",
        "g = array((10,20,30,40,50))                  # initializes another array b\n",
        "#print (a)\n",
        "#print (b)\n",
        "print (f+g) \n",
        "print (f+5) \n",
        "f**2\n",
        "g**3"
      ]
    },
    {
      "cell_type": "code",
      "execution_count": 22,
      "metadata": {
        "colab": {
          "base_uri": "https://localhost:8080/"
        },
        "id": "t84rU-AYOrBL",
        "outputId": "e4ac0023-fce3-4825-f9ae-037afec07b9b"
      },
      "outputs": [
        {
          "output_type": "stream",
          "name": "stdout",
          "text": [
            "array:                 [0 1 2 3 4 5 6 7 8 9]\n",
            "\n",
            "\n",
            "anarray:               [ 5 10 15 20 25 30 35 40 45 50 55]\n",
            "\n",
            "\n",
            "onemorearray:          [3.         3.08333333 3.16666667 3.25       3.33333333 3.41666667\n",
            " 3.5        3.58333333 3.66666667 3.75       3.83333333 3.91666667\n",
            " 4.        ]\n",
            "Rounded onemorearray:  [3. 3. 3. 3. 3. 3. 4. 4. 4. 4. 4. 4. 4.]\n"
          ]
        },
        {
          "output_type": "execute_result",
          "data": {
            "text/plain": [
              "45.5"
            ]
          },
          "metadata": {},
          "execution_count": 22
        }
      ],
      "source": [
        "c = array(arange(10))                           #arange function here works as a sequence or counter in increments of 1\n",
        "print ('array:                ', c)\n",
        "print()\n",
        "print()\n",
        "\n",
        "anarray = array(np.arange(5,56,5))                 #arange function here works as a sequence or counter in increments of 5\n",
        "print ('anarray:              ', anarray)\n",
        "print()\n",
        "print()\n",
        "\n",
        "onemorearray = array(np.linspace(3,4,13))           #linspace function here creates 11 evenly spaced numbers over a specified interval\n",
        "print ('onemorearray:         ', onemorearray)\n",
        "print ('Rounded onemorearray: ', np.round(onemorearray,0))\n",
        "onemorearray.sum()"
      ]
    },
    {
      "cell_type": "markdown",
      "metadata": {
        "id": "FWrIvlXaOrBM"
      },
      "source": [
        "With each ndarray are associated two attributes: shape of the array, and type of the array. The <font color='red'><b>shape</b> of the array tells you about <b><u>dimensionality</u></b> of the array (rows and columns), and <b>type</b> of the array tells you about the <b><u>data type</u></b> contained</font> in the array."
      ]
    },
    {
      "cell_type": "code",
      "execution_count": 24,
      "metadata": {
        "scrolled": true,
        "colab": {
          "base_uri": "https://localhost:8080/"
        },
        "id": "RivaEpDJOrBN",
        "outputId": "84a04d68-20b7-47da-dc8c-6a15e91e2291"
      },
      "outputs": [
        {
          "output_type": "stream",
          "name": "stdout",
          "text": [
            "[  32   45  123  756   23 2123    1    2    3    4    5    6    6    5\n",
            "    4    3    2    1   78   89   87   76   54   31]\n",
            "*****\n",
            "[[[[  32   45  123]\n",
            "   [ 756   23 2123]]\n",
            "\n",
            "  [[   1    2    3]\n",
            "   [   4    5    6]]]\n",
            "\n",
            "\n",
            " [[[   6    5    4]\n",
            "   [   3    2    1]]\n",
            "\n",
            "  [[  78   89   87]\n",
            "   [  76   54   31]]]]\n",
            "(2, 2, 2, 3)\n",
            "int64\n",
            "24\n",
            "[0 1 1 0 1 1 1 0 1 0 1 0 0 1 0 1 0 1 0 1 1 0 0 1]\n"
          ]
        },
        {
          "output_type": "execute_result",
          "data": {
            "text/plain": [
              "array([32, 45, 45, 32, 45, 45, 45, 32, 45, 32, 45, 32, 32, 45, 32, 45, 32,\n",
              "       45, 32, 45, 45, 32, 32, 45])"
            ]
          },
          "metadata": {},
          "execution_count": 24
        }
      ],
      "source": [
        "data = np.array((32,45,123,756,23,2123,1,2,3,4,5,6,6,5,4,3,2,1,78,89,87,76,54,31))\n",
        "#data = data.reshape(8,3)\n",
        "data2 = data.reshape(2,2,2,3)\n",
        "print(data)\n",
        "print (\"*****\")\n",
        "print (data2)\n",
        "print(data2.shape)\n",
        "print(data2.dtype)\n",
        "print(data2.size)\n",
        "even_data = (data %2)\n",
        "print (even_data)\n",
        "data[even_data]"
      ]
    },
    {
      "cell_type": "code",
      "execution_count": 25,
      "metadata": {
        "colab": {
          "base_uri": "https://localhost:8080/"
        },
        "id": "__QRWs6JOrBO",
        "outputId": "e5f1ac84-76bc-4cae-e055-acc81a9bdb5f"
      },
      "outputs": [
        {
          "output_type": "execute_result",
          "data": {
            "text/plain": [
              "array([0., 0., 0., 0., 0., 0., 0., 0., 0., 0., 0., 0., 0., 0., 0., 0., 0.,\n",
              "       0., 0., 0., 0., 0., 0., 0., 0., 0., 0., 0., 0., 0., 0., 0., 0., 0.,\n",
              "       0., 0., 0., 0., 0., 0., 0., 0., 0., 0., 0., 0., 0., 0., 0., 0.])"
            ]
          },
          "metadata": {},
          "execution_count": 25
        }
      ],
      "source": [
        "np.zeros(50)                         # Make a 50, 0 numbered single dimensional array"
      ]
    },
    {
      "cell_type": "code",
      "execution_count": 26,
      "metadata": {
        "colab": {
          "base_uri": "https://localhost:8080/"
        },
        "id": "JgPe5UP0OrBO",
        "outputId": "a490a169-5ce2-4645-e6c8-d8cab8a04971"
      },
      "outputs": [
        {
          "output_type": "execute_result",
          "data": {
            "text/plain": [
              "array([[6., 6., 6., 6., 6.],\n",
              "       [6., 6., 6., 6., 6.],\n",
              "       [6., 6., 6., 6., 6.]])"
            ]
          },
          "metadata": {},
          "execution_count": 26
        }
      ],
      "source": [
        "np.zeros((3,5)) + 6                     # Make a 15, 0 numbered 2 dimensional array"
      ]
    },
    {
      "cell_type": "code",
      "execution_count": 27,
      "metadata": {
        "colab": {
          "base_uri": "https://localhost:8080/"
        },
        "id": "bzP0q3sqOrBP",
        "outputId": "4369dcc1-33f4-455c-d05c-773e84d5f8d8"
      },
      "outputs": [
        {
          "output_type": "execute_result",
          "data": {
            "text/plain": [
              "array([8., 8., 8., 8., 8., 8., 8., 8., 8., 8., 8., 8., 8., 8., 8., 8., 8.,\n",
              "       8., 8., 8., 8., 8., 8., 8., 8., 8., 8., 8., 8., 8.])"
            ]
          },
          "metadata": {},
          "execution_count": 27
        }
      ],
      "source": [
        "np.ones(30) + 7                         # Make a 30, 1 numbered single dimensional array"
      ]
    },
    {
      "cell_type": "code",
      "execution_count": 28,
      "metadata": {
        "colab": {
          "base_uri": "https://localhost:8080/"
        },
        "id": "ArfpVxeoOrBQ",
        "outputId": "1e9f77e4-62bb-47bc-da77-ef9b2bd3bdd4"
      },
      "outputs": [
        {
          "output_type": "execute_result",
          "data": {
            "text/plain": [
              "array([[1., 1., 1., 1., 1., 1., 1., 1., 1.],\n",
              "       [1., 1., 1., 1., 1., 1., 1., 1., 1.],\n",
              "       [1., 1., 1., 1., 1., 1., 1., 1., 1.],\n",
              "       [1., 1., 1., 1., 1., 1., 1., 1., 1.],\n",
              "       [1., 1., 1., 1., 1., 1., 1., 1., 1.]])"
            ]
          },
          "metadata": {},
          "execution_count": 28
        }
      ],
      "source": [
        "np.ones((5,9))                       # Make a 45, 1 numbered 2 dimensional array"
      ]
    },
    {
      "cell_type": "code",
      "execution_count": 29,
      "metadata": {
        "colab": {
          "base_uri": "https://localhost:8080/"
        },
        "id": "xTlM7U0VOrBQ",
        "outputId": "e5d703b5-4872-4211-f4cc-5e7f6f7a5c40"
      },
      "outputs": [
        {
          "output_type": "execute_result",
          "data": {
            "text/plain": [
              "array([[1., 0., 0., 0., 0.],\n",
              "       [0., 1., 0., 0., 0.],\n",
              "       [0., 0., 1., 0., 0.],\n",
              "       [0., 0., 0., 1., 0.],\n",
              "       [0., 0., 0., 0., 1.]])"
            ]
          },
          "metadata": {},
          "execution_count": 29
        }
      ],
      "source": [
        "np.eye(5)                            # creates a 5*5 identity matrix. "
      ]
    },
    {
      "cell_type": "code",
      "execution_count": 30,
      "metadata": {
        "colab": {
          "base_uri": "https://localhost:8080/"
        },
        "id": "gqCpr9YkOrBR",
        "outputId": "c913dca6-1663-4190-a4d0-4a7c20b1e378"
      },
      "outputs": [
        {
          "output_type": "execute_result",
          "data": {
            "text/plain": [
              "array([[1, 0, 0, 0, 0, 0],\n",
              "       [0, 3, 0, 0, 0, 0],\n",
              "       [0, 0, 5, 0, 0, 0],\n",
              "       [0, 0, 0, 3, 0, 0],\n",
              "       [0, 0, 0, 0, 4, 0],\n",
              "       [0, 0, 0, 0, 0, 5]])"
            ]
          },
          "metadata": {},
          "execution_count": 30
        }
      ],
      "source": [
        "np.diag(array([1,3,5,3,4,5]))        # Populate the disgonal elements only"
      ]
    },
    {
      "cell_type": "markdown",
      "metadata": {
        "id": "quVVOqNQOrBR"
      },
      "source": [
        "**pandas**\n",
        "\n",
        "Pandas is the primary package for performing data analysis tasks in Python. pandas derives its name from <b>PANel Data AnalysiS</b> and is the fundamental package that provides <b>relational data structures (think Excel, SQL type) and a host of capabilities to play with those data structures</b>. It is the most widely used package in Python for data analysis tasks, and is very good to work with <b>cross sectional, time series, and panel data analysis</b>. Python sits on top of NumPy and can be used with NumPy arrays and the functions in NumPy. How is pandas suited for a researcher’s needs:\n",
        "<i>\n",
        "+ Has a tabular data structure that can hold both <b>homogenous and heterogenous data</b>.\n",
        "+ Very <b>good indexing capabilities</b> that makes data alignment and merging easy.\n",
        "+ Good <b>time series functionality</b>. No need to use different data structures for time series and cross sectional data. Allows for both <b>ordered and unordered time-series data</b>.\n",
        "+ A host of <b>statistical functions</b> developed around NumPy and pandas that makes a researcher’s task easy and fast.\n",
        "+ Programming is lot <b>simpler and faster</b>.\n",
        "+ Easily handles <b>data manipulation and cleaning</b>.\n",
        "+ Easy to expand and shorten data sets. <b>Comprehensive merging, joins, and group by functionality to join multiple data sets</b>.\n",
        "</i>\n",
        "\n",
        "**Installing pandas** \n",
        "\n",
        "In order to check if pandas is installed, go to Package Manager and type pandas. By default, pandas already comes installed with a distribution of Canopy. If the package is not installed, click on Install.\n",
        "\n",
        "**Importing pandas**\n",
        "\n",
        "In order to be able to use NumPy, first import it using import statement\n"
      ]
    },
    {
      "cell_type": "code",
      "execution_count": 31,
      "metadata": {
        "id": "IJowNWpYOrBT"
      },
      "outputs": [],
      "source": [
        "import pandas as pd                         # This will import pandas into your workspace"
      ]
    },
    {
      "cell_type": "code",
      "execution_count": 32,
      "metadata": {
        "id": "1RCcTwooOrBT"
      },
      "outputs": [],
      "source": [
        "import numpy as np                          # We will be using numpy functions so import numpy"
      ]
    },
    {
      "cell_type": "markdown",
      "metadata": {
        "id": "beS1hEYSOrBU"
      },
      "source": [
        "**Data Structures in pandas**\n",
        "\n",
        "There are two basic data structures in pandas: <b><i>Series and DataFrame</i></b>"
      ]
    },
    {
      "cell_type": "markdown",
      "metadata": {
        "id": "sC3UnI2rOrBU"
      },
      "source": [
        "**Series:** It is similar to a NumPy 1-dimensional array. In addition to the values that are specified by the programmer, <b>pandas attaches a label to each of the values</b>. If the labels are not provided by the programmer, then pandas assigns labels ( 0 for first element, 1 for second element and so on). A benefit of assigning labels to data values is that it becomes easier to perform manipulations on the dataset as the whole dataset becomes more of a dictionary where each value is associated with a label. \n"
      ]
    },
    {
      "cell_type": "code",
      "execution_count": null,
      "metadata": {
        "id": "xAhDeGLVOrBU"
      },
      "outputs": [],
      "source": [
        "series1 = pd.Series([10,20,30,40])\n",
        "series1"
      ]
    },
    {
      "cell_type": "code",
      "execution_count": null,
      "metadata": {
        "id": "QvkWn2B3OrBV"
      },
      "outputs": [],
      "source": [
        "series1.values"
      ]
    },
    {
      "cell_type": "code",
      "execution_count": null,
      "metadata": {
        "id": "vCsqce0BOrBW"
      },
      "outputs": [],
      "source": [
        "series1.index"
      ]
    },
    {
      "cell_type": "markdown",
      "metadata": {
        "id": "LaFaJE6SOrBW"
      },
      "source": [
        "If you want to specify custom index values rather than the default ones provided, you can do so using the following command"
      ]
    },
    {
      "cell_type": "code",
      "execution_count": null,
      "metadata": {
        "id": "0O_kIQkaOrBW"
      },
      "outputs": [],
      "source": [
        "series2 = pd.Series([10,20,30,40,50], index=[1,2,3,4,5])\n",
        "series2"
      ]
    },
    {
      "cell_type": "markdown",
      "metadata": {
        "id": "Yk1YDYHPOrBX"
      },
      "source": [
        "The ways of accesing elements in a Series object are similar to what we have seen in NumPy, and you can perform NumPy operations on Series data arrays."
      ]
    },
    {
      "cell_type": "code",
      "execution_count": null,
      "metadata": {
        "id": "nO02CXnIOrBY"
      },
      "outputs": [],
      "source": [
        "series2[6]                  # How to print 30 from the series"
      ]
    },
    {
      "cell_type": "code",
      "execution_count": null,
      "metadata": {
        "id": "gZz8rcZCOrBZ"
      },
      "outputs": [],
      "source": [
        "series2['three']            # Another way to print 30 from the series"
      ]
    },
    {
      "cell_type": "code",
      "execution_count": null,
      "metadata": {
        "id": "iGszPre4OrBZ"
      },
      "outputs": [],
      "source": [
        "series2[['one', 'three', 'five']]"
      ]
    },
    {
      "cell_type": "code",
      "execution_count": null,
      "metadata": {
        "id": "rURVHs4-OrBc"
      },
      "outputs": [],
      "source": [
        "series2[[0,1,3]]"
      ]
    },
    {
      "cell_type": "code",
      "execution_count": null,
      "metadata": {
        "id": "UeQ2hyYqOrBc"
      },
      "outputs": [],
      "source": [
        "series2 + 4            # Add 4 to every element"
      ]
    },
    {
      "cell_type": "code",
      "execution_count": null,
      "metadata": {
        "id": "qABduYhCOrBd"
      },
      "outputs": [],
      "source": [
        "series2 ** 3           # Cube every element "
      ]
    },
    {
      "cell_type": "code",
      "execution_count": null,
      "metadata": {
        "id": "rz63DtS_OrBd"
      },
      "outputs": [],
      "source": [
        "series2[series2>30]    # Find all values greater than 30"
      ]
    },
    {
      "cell_type": "code",
      "execution_count": null,
      "metadata": {
        "id": "_OUZJuiPOrBe"
      },
      "outputs": [],
      "source": [
        "np.sqrt(series2)       # Get the square roots of all the values"
      ]
    },
    {
      "cell_type": "markdown",
      "metadata": {
        "id": "YNhJ-GcoOrBe"
      },
      "source": [
        "If you have a dictionary, you can <b>create a Series data structure from that dictionary</b>. Suppose you are interested in EPS values for firms and the <i>values come from different sources and is not clean. In that case you dont have to worry about cleaning and aligning those values</i>. "
      ]
    },
    {
      "cell_type": "code",
      "execution_count": null,
      "metadata": {
        "id": "J1teEgmSOrBe"
      },
      "outputs": [],
      "source": [
        "years = [91, 90, 92, 93, 94, 95, 96, 97]\n",
        "f1 = {90:8, 91:9, 92:7, 93:8, 94:9, 95:11, 96:13}\n",
        "firm1 = pd.Series(f1,index=years)                     # Extra element in VALUE not an issue\n",
        "firm1"
      ]
    },
    {
      "cell_type": "code",
      "execution_count": null,
      "metadata": {
        "id": "yLNmUo6nOrBf"
      },
      "outputs": [],
      "source": [
        "f2 = {90:14,92:9, 93:13, 94:5}                      \n",
        "firm2 = pd.Series(f2,index=years)                   # Extra element in the KEY is handled as NaN\n",
        "firm2"
      ]
    },
    {
      "cell_type": "markdown",
      "metadata": {
        "id": "kFp4ohtROrBf"
      },
      "source": [
        "NaN stands for missing or NA values in pandas. Make use of isnull() function to find out if there are any missing values in the data structure."
      ]
    },
    {
      "cell_type": "code",
      "execution_count": null,
      "metadata": {
        "id": "WhOTzwPaOrBg"
      },
      "outputs": [],
      "source": [
        "pd.isnull(firm2)"
      ]
    },
    {
      "cell_type": "markdown",
      "metadata": {
        "id": "fBY5X6soOrBg"
      },
      "source": [
        "A key feature of Series data is structures is that you don't have to worry about data alignment. For example, if we have run a word count program on two different files and we have the following data structures"
      ]
    },
    {
      "cell_type": "code",
      "execution_count": null,
      "metadata": {
        "id": "z4r2FOyiOrBh"
      },
      "outputs": [],
      "source": [
        "dict1 = {'finance': 10, 'earning': 5, 'debt':8}\n",
        "dict2 = {'finance' : 8, 'compensation':4, 'earning': 9}\n",
        "count1 = pd.Series(dict1)\n",
        "count2 = pd.Series(dict2)\n",
        "print (count1)\n",
        "print (count2)"
      ]
    },
    {
      "cell_type": "markdown",
      "metadata": {
        "id": "nxir0dLZOrBh"
      },
      "source": [
        "If we want to calculate the sum of common words in combined files, then we dont have to worry about data alignment. If we want to include all words, then we can take care of NaN values and compute the sum. By default, Series data structure ignores NaN values. NaN values stand for missing data values."
      ]
    },
    {
      "cell_type": "code",
      "execution_count": null,
      "metadata": {
        "scrolled": true,
        "id": "zaiyIHTXOrBi"
      },
      "outputs": [],
      "source": [
        "count1+count2                                # Sum values on key based retrieval. Non matching keys become NaN"
      ]
    },
    {
      "cell_type": "markdown",
      "metadata": {
        "id": "5x_57bX0OrBi"
      },
      "source": [
        "**Data Frame**\n",
        "\n",
        "DataFrame is a <b>tabular data structure</b> in which data is laid out in <b>rows and column</b> format (similar to a CSV and SQL file), but it can also be <b>used for higher dimensional data</b> sets. The DataFrame object can contain homogenous and heterogenous values, and can be thought of as a logical extension of Series data structures. In contrast to <u>Series</u>, where there is <b>one index</b>, a <u>DataFrame</u> object has <b>one index for column and one index for rows</b>. This allows flexibility in accessing and manipulating data."
      ]
    },
    {
      "cell_type": "code",
      "execution_count": null,
      "metadata": {
        "id": "1k27q_hFOrBj"
      },
      "outputs": [],
      "source": [
        "data = pd.DataFrame({'price':[95, 25, 85, 41, 78],\n",
        "                     'ticker':['AXP', 'CSCO', 'DIS', 'MSFT', 'WMT'],\n",
        "                     'company':['American Express', 'Cisco', 'Walt Disney','Microsoft', 'Walmart']})\n",
        "data"
      ]
    },
    {
      "cell_type": "markdown",
      "metadata": {
        "id": "SJFROXiPOrBj"
      },
      "source": [
        "If a column is passed with no values, it will simply have NaN values"
      ]
    },
    {
      "cell_type": "markdown",
      "metadata": {
        "id": "_cwD2B1KOrBj"
      },
      "source": [
        "In order to access a column, simply mention the column name"
      ]
    },
    {
      "cell_type": "code",
      "execution_count": null,
      "metadata": {
        "id": "m6kKEsTIOrBk"
      },
      "outputs": [],
      "source": [
        "data['company']                          # Print only company names"
      ]
    },
    {
      "cell_type": "code",
      "execution_count": null,
      "metadata": {
        "id": "rWvtf4KFOrBk"
      },
      "outputs": [],
      "source": [
        "data.company                            # Another way to print only company names"
      ]
    },
    {
      "cell_type": "code",
      "execution_count": null,
      "metadata": {
        "id": "oasDM3AIOrBl"
      },
      "outputs": [],
      "source": [
        "print (data.ix[2])                              # Print the row corresponding to the given Index"
      ]
    },
    {
      "cell_type": "code",
      "execution_count": null,
      "metadata": {
        "id": "4VdMo33IOrBl"
      },
      "outputs": [],
      "source": [
        "data.ix[data.ticker=='DIS']            # Print the row corresponding to the ticker that is 'DIS'"
      ]
    },
    {
      "cell_type": "markdown",
      "metadata": {
        "id": "isQb6adXOrBm"
      },
      "source": [
        "In order to add additional columns"
      ]
    },
    {
      "cell_type": "code",
      "execution_count": null,
      "metadata": {
        "id": "Dyi4pfrpOrBm"
      },
      "outputs": [],
      "source": [
        "data['Year'] = 2014                       # Add additional column Year. Populate value of 2014 in all the rows.\n",
        "data"
      ]
    },
    {
      "cell_type": "code",
      "execution_count": null,
      "metadata": {
        "id": "tEdPRDzbOrBn"
      },
      "outputs": [],
      "source": [
        "data['pricesquared'] = data.price**2      # Square all the prices and add another column 'pricesquared'.\n",
        "data"
      ]
    },
    {
      "cell_type": "code",
      "execution_count": null,
      "metadata": {
        "id": "eVF-se9KOrBn"
      },
      "outputs": [],
      "source": [
        "del data['pricesquared']                  # Delete column 'pricesquared'\n",
        "data"
      ]
    },
    {
      "cell_type": "code",
      "execution_count": null,
      "metadata": {
        "id": "i1EPEToNOrBn"
      },
      "outputs": [],
      "source": [
        "data['pricesquared'] = np.NaN             # Create column 'pricesquared' with NaN values\n",
        "data"
      ]
    },
    {
      "cell_type": "code",
      "execution_count": null,
      "metadata": {
        "id": "jCXz8QGcOrBo"
      },
      "outputs": [],
      "source": [
        "data['sequence'] = np.arange(2014,2024,2)         # Add column 'sequence' and populate sequence of numbers from 1 to 5\n",
        "data"
      ]
    },
    {
      "cell_type": "markdown",
      "metadata": {
        "id": "M4uthuAAOrBo"
      },
      "source": [
        "You can use NumPy functions inside DataFrame objects."
      ]
    },
    {
      "cell_type": "code",
      "execution_count": null,
      "metadata": {
        "id": "9hvWMMqqOrBp"
      },
      "outputs": [],
      "source": [
        "dataframe = pd.DataFrame(np.random.randn(3,3),columns=['one','two','three'])  # Create array of 3*3 dimensionality using standard normally distributed random vales\n",
        "dataframe"
      ]
    },
    {
      "cell_type": "code",
      "execution_count": null,
      "metadata": {
        "id": "vtGHEIP3OrBp"
      },
      "outputs": [],
      "source": [
        "np.abs(dataframe)                   # Absolute value"
      ]
    },
    {
      "cell_type": "code",
      "execution_count": null,
      "metadata": {
        "id": "8oM5tCUNOrBp"
      },
      "outputs": [],
      "source": [
        "f = lambda x:x.max()-x.min()        # We have option to use a powerful lambda function feature. Get the range in a column\n",
        "abs(dataframe).apply(f)"
      ]
    },
    {
      "cell_type": "code",
      "execution_count": null,
      "metadata": {
        "id": "rIti8oyFOrBq"
      },
      "outputs": [],
      "source": [
        "abs(dataframe).apply(f,axis=1)           # Apply lambda function on the row and not column as we did in the previous example"
      ]
    },
    {
      "cell_type": "code",
      "execution_count": null,
      "metadata": {
        "id": "KbrbT54lOrBq"
      },
      "outputs": [],
      "source": [
        "def f(x):\n",
        "    return pd.Series([np.mean(x), x.max(), x.min()], index=['mean','max','min'])\n",
        "print(dataframe)\n",
        "dataframe.apply(f,axis=1)"
      ]
    },
    {
      "cell_type": "code",
      "execution_count": null,
      "metadata": {
        "id": "lO2C3kANOrBr"
      },
      "outputs": [],
      "source": [
        "print(dataframe)\n",
        "dataframe.sum()                          # Column wise sum"
      ]
    },
    {
      "cell_type": "code",
      "execution_count": null,
      "metadata": {
        "id": "Lti_0tJYOrBr"
      },
      "outputs": [],
      "source": [
        "dataframe.sum(axis=1)                    # Row wise sum"
      ]
    },
    {
      "cell_type": "code",
      "execution_count": null,
      "metadata": {
        "id": "563qCvNpOrBs"
      },
      "outputs": [],
      "source": [
        "print(dataframe)\n",
        "dataframe.cumsum()                 # Get cumulative sum"
      ]
    },
    {
      "cell_type": "code",
      "execution_count": null,
      "metadata": {
        "id": "U7voD1MzOrBs"
      },
      "outputs": [],
      "source": [
        "dataframe.describe()"
      ]
    },
    {
      "cell_type": "markdown",
      "metadata": {
        "id": "7QLMRQ3KOrBt"
      },
      "source": [
        "If you have non-numeric data, then applying describe function would produce statistics such as <b>count, unique, frequency</b>. In addition to this, you can also calculate <b>skewness (skew), kurtosis (kurt), percent changes, difference, and other statistics</b>."
      ]
    },
    {
      "cell_type": "markdown",
      "metadata": {
        "id": "q7kwf3l-OrBt"
      },
      "source": [
        "**Missing Data**\n",
        "\n",
        "Pandas have a number of features to deal with <b>missing data</b>. We have seen an example of the case of descriptive statistics, where missing values are not taken into account while calculating the descriptive statistics. Missing data is denoted by NaN. "
      ]
    },
    {
      "cell_type": "code",
      "execution_count": null,
      "metadata": {
        "id": "tOJ60_xvOrBu",
        "outputId": "84a3b838-5f50-4343-f848-41e21b2a5418"
      },
      "outputs": [
        {
          "name": "stdout",
          "output_type": "stream",
          "text": [
            "90     8\n",
            "91     9\n",
            "92     7\n",
            "93     8\n",
            "94     9\n",
            "95    11\n",
            "dtype: int64\n"
          ]
        },
        {
          "data": {
            "text/html": [
              "<div>\n",
              "<style scoped>\n",
              "    .dataframe tbody tr th:only-of-type {\n",
              "        vertical-align: middle;\n",
              "    }\n",
              "\n",
              "    .dataframe tbody tr th {\n",
              "        vertical-align: top;\n",
              "    }\n",
              "\n",
              "    .dataframe thead th {\n",
              "        text-align: right;\n",
              "    }\n",
              "</style>\n",
              "<table border=\"1\" class=\"dataframe\">\n",
              "  <thead>\n",
              "    <tr style=\"text-align: right;\">\n",
              "      <th></th>\n",
              "      <th>Firm1</th>\n",
              "      <th>Firm2</th>\n",
              "      <th>Firm3</th>\n",
              "    </tr>\n",
              "  </thead>\n",
              "  <tbody>\n",
              "    <tr>\n",
              "      <th>90</th>\n",
              "      <td>8</td>\n",
              "      <td>14.0</td>\n",
              "      <td>NaN</td>\n",
              "    </tr>\n",
              "    <tr>\n",
              "      <th>91</th>\n",
              "      <td>9</td>\n",
              "      <td>NaN</td>\n",
              "      <td>NaN</td>\n",
              "    </tr>\n",
              "    <tr>\n",
              "      <th>92</th>\n",
              "      <td>7</td>\n",
              "      <td>9.0</td>\n",
              "      <td>NaN</td>\n",
              "    </tr>\n",
              "    <tr>\n",
              "      <th>93</th>\n",
              "      <td>8</td>\n",
              "      <td>13.0</td>\n",
              "      <td>10.0</td>\n",
              "    </tr>\n",
              "    <tr>\n",
              "      <th>94</th>\n",
              "      <td>9</td>\n",
              "      <td>5.0</td>\n",
              "      <td>12.0</td>\n",
              "    </tr>\n",
              "    <tr>\n",
              "      <th>95</th>\n",
              "      <td>11</td>\n",
              "      <td>NaN</td>\n",
              "      <td>13.0</td>\n",
              "    </tr>\n",
              "  </tbody>\n",
              "</table>\n",
              "</div>"
            ],
            "text/plain": [
              "    Firm1  Firm2  Firm3\n",
              "90      8   14.0    NaN\n",
              "91      9    NaN    NaN\n",
              "92      7    9.0    NaN\n",
              "93      8   13.0   10.0\n",
              "94      9    5.0   12.0\n",
              "95     11    NaN   13.0"
            ]
          },
          "execution_count": 2,
          "metadata": {},
          "output_type": "execute_result"
        }
      ],
      "source": [
        "import pandas as pd\n",
        "years = [90, 91, 92, 93, 94, 95]\n",
        "f1 = {90:8, 91:9, 92:7, 93:8, 94:9, 95:11}\n",
        "firm1 = pd.Series(f1,index=years)\n",
        "print(firm1)\n",
        "f2 = {90:14,92:9, 93:13, 94:5}\n",
        "firm2 = pd.Series(f2,index=years)\n",
        "firm2\n",
        "f3 = {93:10, 94:12, 95: 13}\n",
        "firm3 = pd.Series(f3,index=years)\n",
        "firm3\n",
        "df3 = pd.DataFrame(columns=['Firm1','Firm2','Firm3'],index=years)\n",
        "df3\n",
        "df3.Firm1 = firm1\n",
        "df3.Firm2 = firm2\n",
        "df3.Firm3 = firm3\n",
        "df3"
      ]
    },
    {
      "cell_type": "code",
      "execution_count": null,
      "metadata": {
        "id": "MoTf-rfeOrBw",
        "outputId": "cbfb12bc-203b-410f-ceea-f5f163e381e3"
      },
      "outputs": [
        {
          "data": {
            "text/plain": [
              "90    14.0\n",
              "91     NaN\n",
              "92     9.0\n",
              "93    13.0\n",
              "94     5.0\n",
              "95     NaN\n",
              "dtype: float64"
            ]
          },
          "execution_count": 3,
          "metadata": {},
          "output_type": "execute_result"
        }
      ],
      "source": [
        "firm2"
      ]
    },
    {
      "cell_type": "code",
      "execution_count": null,
      "metadata": {
        "id": "daS4YczLOrBw",
        "outputId": "ce861603-9f65-4a72-90c6-0ba776132965"
      },
      "outputs": [
        {
          "data": {
            "text/html": [
              "<div>\n",
              "<style scoped>\n",
              "    .dataframe tbody tr th:only-of-type {\n",
              "        vertical-align: middle;\n",
              "    }\n",
              "\n",
              "    .dataframe tbody tr th {\n",
              "        vertical-align: top;\n",
              "    }\n",
              "\n",
              "    .dataframe thead th {\n",
              "        text-align: right;\n",
              "    }\n",
              "</style>\n",
              "<table border=\"1\" class=\"dataframe\">\n",
              "  <thead>\n",
              "    <tr style=\"text-align: right;\">\n",
              "      <th></th>\n",
              "      <th>Firm1</th>\n",
              "      <th>Firm2</th>\n",
              "      <th>Firm3</th>\n",
              "    </tr>\n",
              "  </thead>\n",
              "  <tbody>\n",
              "    <tr>\n",
              "      <th>90</th>\n",
              "      <td>8</td>\n",
              "      <td>14.0</td>\n",
              "      <td>NaN</td>\n",
              "    </tr>\n",
              "    <tr>\n",
              "      <th>91</th>\n",
              "      <td>9</td>\n",
              "      <td>NaN</td>\n",
              "      <td>NaN</td>\n",
              "    </tr>\n",
              "    <tr>\n",
              "      <th>92</th>\n",
              "      <td>7</td>\n",
              "      <td>9.0</td>\n",
              "      <td>NaN</td>\n",
              "    </tr>\n",
              "    <tr>\n",
              "      <th>93</th>\n",
              "      <td>8</td>\n",
              "      <td>13.0</td>\n",
              "      <td>10.0</td>\n",
              "    </tr>\n",
              "    <tr>\n",
              "      <th>94</th>\n",
              "      <td>9</td>\n",
              "      <td>5.0</td>\n",
              "      <td>12.0</td>\n",
              "    </tr>\n",
              "    <tr>\n",
              "      <th>95</th>\n",
              "      <td>11</td>\n",
              "      <td>NaN</td>\n",
              "      <td>13.0</td>\n",
              "    </tr>\n",
              "  </tbody>\n",
              "</table>\n",
              "</div>"
            ],
            "text/plain": [
              "    Firm1  Firm2  Firm3\n",
              "90      8   14.0    NaN\n",
              "91      9    NaN    NaN\n",
              "92      7    9.0    NaN\n",
              "93      8   13.0   10.0\n",
              "94      9    5.0   12.0\n",
              "95     11    NaN   13.0"
            ]
          },
          "execution_count": 5,
          "metadata": {},
          "output_type": "execute_result"
        }
      ],
      "source": [
        "df3.dropna()\n",
        "\n"
      ]
    },
    {
      "cell_type": "code",
      "execution_count": null,
      "metadata": {
        "id": "cume-8GaOrBx"
      },
      "outputs": [],
      "source": [
        "df3"
      ]
    },
    {
      "cell_type": "markdown",
      "metadata": {
        "id": "OnDw9Dm3OrBx"
      },
      "source": [
        "In case of DataFrame, <b>if you use dropna, it deletes entire row by default</b>. Another way is to drop only <b>those rows that are all NA</b>. If you want to <b>drop columns, pass axis=1</b>"
      ]
    },
    {
      "cell_type": "code",
      "execution_count": null,
      "metadata": {
        "id": "7wVplgZKOrBy",
        "outputId": "12b22f7e-f150-4a54-a5cf-91a5c34303e5"
      },
      "outputs": [
        {
          "data": {
            "text/html": [
              "<div>\n",
              "<style scoped>\n",
              "    .dataframe tbody tr th:only-of-type {\n",
              "        vertical-align: middle;\n",
              "    }\n",
              "\n",
              "    .dataframe tbody tr th {\n",
              "        vertical-align: top;\n",
              "    }\n",
              "\n",
              "    .dataframe thead th {\n",
              "        text-align: right;\n",
              "    }\n",
              "</style>\n",
              "<table border=\"1\" class=\"dataframe\">\n",
              "  <thead>\n",
              "    <tr style=\"text-align: right;\">\n",
              "      <th></th>\n",
              "      <th>Firm1</th>\n",
              "    </tr>\n",
              "  </thead>\n",
              "  <tbody>\n",
              "    <tr>\n",
              "      <th>90</th>\n",
              "      <td>8</td>\n",
              "    </tr>\n",
              "    <tr>\n",
              "      <th>91</th>\n",
              "      <td>9</td>\n",
              "    </tr>\n",
              "    <tr>\n",
              "      <th>92</th>\n",
              "      <td>7</td>\n",
              "    </tr>\n",
              "    <tr>\n",
              "      <th>93</th>\n",
              "      <td>8</td>\n",
              "    </tr>\n",
              "    <tr>\n",
              "      <th>94</th>\n",
              "      <td>9</td>\n",
              "    </tr>\n",
              "    <tr>\n",
              "      <th>95</th>\n",
              "      <td>11</td>\n",
              "    </tr>\n",
              "  </tbody>\n",
              "</table>\n",
              "</div>"
            ],
            "text/plain": [
              "    Firm1\n",
              "90      8\n",
              "91      9\n",
              "92      7\n",
              "93      8\n",
              "94      9\n",
              "95     11"
            ]
          },
          "execution_count": 8,
          "metadata": {},
          "output_type": "execute_result"
        }
      ],
      "source": [
        "cleandf3 = df3.dropna(axis=1)          # Drop row if any value in the row is NaN\n",
        "cleandf3"
      ]
    },
    {
      "cell_type": "code",
      "execution_count": null,
      "metadata": {
        "id": "z7Oiu48nOrBy"
      },
      "outputs": [],
      "source": [
        "df3"
      ]
    },
    {
      "cell_type": "code",
      "execution_count": null,
      "metadata": {
        "id": "HVAJniY6OrBz"
      },
      "outputs": [],
      "source": [
        "clean2 = df3.dropna(how='all')   # Drop row if all values in the row are NaN\n",
        "clean2"
      ]
    },
    {
      "cell_type": "code",
      "execution_count": null,
      "metadata": {
        "id": "sHCvj-U7OrBz"
      },
      "outputs": [],
      "source": [
        "columndrop = df3.dropna(axis=1)   # Drop column if any value in the column is NaN\n",
        "columndrop"
      ]
    },
    {
      "cell_type": "code",
      "execution_count": null,
      "metadata": {
        "scrolled": true,
        "id": "FzjAnejSOrB0"
      },
      "outputs": [],
      "source": [
        "df3"
      ]
    },
    {
      "cell_type": "code",
      "execution_count": null,
      "metadata": {
        "id": "fwDslA3dOrB0",
        "outputId": "a6c933d7-9db8-4316-d0e4-d368f1a06635"
      },
      "outputs": [
        {
          "name": "stdout",
          "output_type": "stream",
          "text": [
            "    Firm1\n",
            "90      8\n",
            "91      9\n",
            "92      7\n",
            "93      8\n",
            "94      9\n",
            "95     11\n"
          ]
        },
        {
          "data": {
            "text/html": [
              "<div>\n",
              "<style scoped>\n",
              "    .dataframe tbody tr th:only-of-type {\n",
              "        vertical-align: middle;\n",
              "    }\n",
              "\n",
              "    .dataframe tbody tr th {\n",
              "        vertical-align: top;\n",
              "    }\n",
              "\n",
              "    .dataframe thead th {\n",
              "        text-align: right;\n",
              "    }\n",
              "</style>\n",
              "<table border=\"1\" class=\"dataframe\">\n",
              "  <thead>\n",
              "    <tr style=\"text-align: right;\">\n",
              "      <th></th>\n",
              "      <th>Firm1</th>\n",
              "      <th>Firm2</th>\n",
              "      <th>Firm3</th>\n",
              "    </tr>\n",
              "  </thead>\n",
              "  <tbody>\n",
              "    <tr>\n",
              "      <th>90</th>\n",
              "      <td>8</td>\n",
              "      <td>14.0</td>\n",
              "      <td>NaN</td>\n",
              "    </tr>\n",
              "    <tr>\n",
              "      <th>91</th>\n",
              "      <td>9</td>\n",
              "      <td>NaN</td>\n",
              "      <td>NaN</td>\n",
              "    </tr>\n",
              "    <tr>\n",
              "      <th>92</th>\n",
              "      <td>7</td>\n",
              "      <td>9.0</td>\n",
              "      <td>NaN</td>\n",
              "    </tr>\n",
              "    <tr>\n",
              "      <th>93</th>\n",
              "      <td>8</td>\n",
              "      <td>13.0</td>\n",
              "      <td>10.0</td>\n",
              "    </tr>\n",
              "    <tr>\n",
              "      <th>94</th>\n",
              "      <td>9</td>\n",
              "      <td>5.0</td>\n",
              "      <td>12.0</td>\n",
              "    </tr>\n",
              "    <tr>\n",
              "      <th>95</th>\n",
              "      <td>11</td>\n",
              "      <td>NaN</td>\n",
              "      <td>13.0</td>\n",
              "    </tr>\n",
              "  </tbody>\n",
              "</table>\n",
              "</div>"
            ],
            "text/plain": [
              "    Firm1  Firm2  Firm3\n",
              "90      8   14.0    NaN\n",
              "91      9    NaN    NaN\n",
              "92      7    9.0    NaN\n",
              "93      8   13.0   10.0\n",
              "94      9    5.0   12.0\n",
              "95     11    NaN   13.0"
            ]
          },
          "execution_count": 12,
          "metadata": {},
          "output_type": "execute_result"
        }
      ],
      "source": [
        "thresholddf = df3.dropna(axis=1,thresh=5)    # Define threshold. In this case row having >= 2 NaN, drop the row\n",
        "print(thresholddf)\n",
        "df3\n"
      ]
    },
    {
      "cell_type": "code",
      "execution_count": null,
      "metadata": {
        "id": "mssL8O2BOrB0",
        "outputId": "b4ef953c-679c-457a-b7eb-1c98c5c5217c"
      },
      "outputs": [
        {
          "data": {
            "text/html": [
              "<div>\n",
              "<style scoped>\n",
              "    .dataframe tbody tr th:only-of-type {\n",
              "        vertical-align: middle;\n",
              "    }\n",
              "\n",
              "    .dataframe tbody tr th {\n",
              "        vertical-align: top;\n",
              "    }\n",
              "\n",
              "    .dataframe thead th {\n",
              "        text-align: right;\n",
              "    }\n",
              "</style>\n",
              "<table border=\"1\" class=\"dataframe\">\n",
              "  <thead>\n",
              "    <tr style=\"text-align: right;\">\n",
              "      <th></th>\n",
              "      <th>Firm1</th>\n",
              "      <th>Firm2</th>\n",
              "      <th>Firm3</th>\n",
              "    </tr>\n",
              "  </thead>\n",
              "  <tbody>\n",
              "    <tr>\n",
              "      <th>90</th>\n",
              "      <td>8</td>\n",
              "      <td>14.0</td>\n",
              "      <td>0.0</td>\n",
              "    </tr>\n",
              "    <tr>\n",
              "      <th>91</th>\n",
              "      <td>9</td>\n",
              "      <td>0.0</td>\n",
              "      <td>0.0</td>\n",
              "    </tr>\n",
              "    <tr>\n",
              "      <th>92</th>\n",
              "      <td>7</td>\n",
              "      <td>9.0</td>\n",
              "      <td>0.0</td>\n",
              "    </tr>\n",
              "    <tr>\n",
              "      <th>93</th>\n",
              "      <td>8</td>\n",
              "      <td>13.0</td>\n",
              "      <td>10.0</td>\n",
              "    </tr>\n",
              "    <tr>\n",
              "      <th>94</th>\n",
              "      <td>9</td>\n",
              "      <td>5.0</td>\n",
              "      <td>12.0</td>\n",
              "    </tr>\n",
              "    <tr>\n",
              "      <th>95</th>\n",
              "      <td>11</td>\n",
              "      <td>0.0</td>\n",
              "      <td>13.0</td>\n",
              "    </tr>\n",
              "  </tbody>\n",
              "</table>\n",
              "</div>"
            ],
            "text/plain": [
              "    Firm1  Firm2  Firm3\n",
              "90      8   14.0    0.0\n",
              "91      9    0.0    0.0\n",
              "92      7    9.0    0.0\n",
              "93      8   13.0   10.0\n",
              "94      9    5.0   12.0\n",
              "95     11    0.0   13.0"
            ]
          },
          "execution_count": 13,
          "metadata": {},
          "output_type": "execute_result"
        }
      ],
      "source": [
        "fillna1 = df3.fillna(0)      # Fill all NaN values with 0\n",
        "fillna1"
      ]
    },
    {
      "cell_type": "code",
      "execution_count": null,
      "metadata": {
        "id": "0kqoRSMOOrB1"
      },
      "outputs": [],
      "source": [
        "fillna2 = df3.fillna({'Firm1':8, 'Firm2': 10, 'Firm3':14})   # We can specify what value should be replaced\n",
        "fillna2"
      ]
    },
    {
      "cell_type": "code",
      "execution_count": null,
      "metadata": {
        "id": "5lCLK1pWOrB1"
      },
      "outputs": [],
      "source": [
        "df3"
      ]
    },
    {
      "cell_type": "code",
      "execution_count": null,
      "metadata": {
        "id": "nrz5IbhSOrB2"
      },
      "outputs": [],
      "source": [
        "fillna3 = df3.fillna(method='ffill')    # Forward fill NaNs for 1 level. Check Firm 2 -> 14 & 5\n",
        "fillna3"
      ]
    },
    {
      "cell_type": "code",
      "execution_count": null,
      "metadata": {
        "id": "UY-JvZAKOrB2"
      },
      "outputs": [],
      "source": [
        "fillna4 = df3.fillna(method='bfill')    # Back fill NaNs till 2 levels before. Check how Firm3 behaves\n",
        "fillna4"
      ]
    },
    {
      "cell_type": "code",
      "execution_count": null,
      "metadata": {
        "id": "oAJiES1KOrB3",
        "outputId": "7d588cb2-4869-473a-dbea-c14ab5e9747d"
      },
      "outputs": [
        {
          "name": "stdout",
          "output_type": "stream",
          "text": [
            "    Firm1  Firm2  Firm3\n",
            "90      8   14.0    NaN\n",
            "91      9    NaN    NaN\n",
            "92      7    9.0    NaN\n",
            "93      8   13.0   10.0\n",
            "94      9    5.0   12.0\n",
            "95     11    NaN   13.0\n"
          ]
        },
        {
          "data": {
            "text/html": [
              "<div>\n",
              "<style scoped>\n",
              "    .dataframe tbody tr th:only-of-type {\n",
              "        vertical-align: middle;\n",
              "    }\n",
              "\n",
              "    .dataframe tbody tr th {\n",
              "        vertical-align: top;\n",
              "    }\n",
              "\n",
              "    .dataframe thead th {\n",
              "        text-align: right;\n",
              "    }\n",
              "</style>\n",
              "<table border=\"1\" class=\"dataframe\">\n",
              "  <thead>\n",
              "    <tr style=\"text-align: right;\">\n",
              "      <th></th>\n",
              "      <th>Firm1</th>\n",
              "      <th>Firm2</th>\n",
              "      <th>Firm3</th>\n",
              "    </tr>\n",
              "  </thead>\n",
              "  <tbody>\n",
              "    <tr>\n",
              "      <th>90</th>\n",
              "      <td>8</td>\n",
              "      <td>14.00</td>\n",
              "      <td>11.666667</td>\n",
              "    </tr>\n",
              "    <tr>\n",
              "      <th>91</th>\n",
              "      <td>9</td>\n",
              "      <td>10.25</td>\n",
              "      <td>11.666667</td>\n",
              "    </tr>\n",
              "    <tr>\n",
              "      <th>92</th>\n",
              "      <td>7</td>\n",
              "      <td>9.00</td>\n",
              "      <td>11.666667</td>\n",
              "    </tr>\n",
              "    <tr>\n",
              "      <th>93</th>\n",
              "      <td>8</td>\n",
              "      <td>13.00</td>\n",
              "      <td>10.000000</td>\n",
              "    </tr>\n",
              "    <tr>\n",
              "      <th>94</th>\n",
              "      <td>9</td>\n",
              "      <td>5.00</td>\n",
              "      <td>12.000000</td>\n",
              "    </tr>\n",
              "    <tr>\n",
              "      <th>95</th>\n",
              "      <td>11</td>\n",
              "      <td>10.25</td>\n",
              "      <td>13.000000</td>\n",
              "    </tr>\n",
              "  </tbody>\n",
              "</table>\n",
              "</div>"
            ],
            "text/plain": [
              "    Firm1  Firm2      Firm3\n",
              "90      8  14.00  11.666667\n",
              "91      9  10.25  11.666667\n",
              "92      7   9.00  11.666667\n",
              "93      8  13.00  10.000000\n",
              "94      9   5.00  12.000000\n",
              "95     11  10.25  13.000000"
            ]
          },
          "execution_count": 14,
          "metadata": {},
          "output_type": "execute_result"
        }
      ],
      "source": [
        "#print(df3.mean())\n",
        "print (df3)\n",
        "fillna5 = df3.fillna(df3.mean())  # We will substitute empty values with Mean of the Firm in concern\n",
        "fillna5"
      ]
    },
    {
      "cell_type": "code",
      "execution_count": null,
      "metadata": {
        "id": "ozRxf31oOrB4"
      },
      "outputs": [],
      "source": [
        ""
      ]
    },
    {
      "cell_type": "code",
      "execution_count": null,
      "metadata": {
        "id": "Avc0_jpUOrB4"
      },
      "outputs": [],
      "source": [
        ""
      ]
    }
  ],
  "metadata": {
    "anaconda-cloud": {},
    "kernelspec": {
      "display_name": "Python 3",
      "language": "python",
      "name": "python3"
    },
    "language_info": {
      "codemirror_mode": {
        "name": "ipython",
        "version": 3
      },
      "file_extension": ".py",
      "mimetype": "text/x-python",
      "name": "python",
      "nbconvert_exporter": "python",
      "pygments_lexer": "ipython3",
      "version": "3.6.5"
    },
    "colab": {
      "name": "Python_Advanced-Use and Analysis.ipynb",
      "provenance": []
    }
  },
  "nbformat": 4,
  "nbformat_minor": 0
}